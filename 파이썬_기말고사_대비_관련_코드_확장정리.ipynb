{
  "nbformat": 4,
  "nbformat_minor": 0,
  "metadata": {
    "colab": {
      "provenance": [],
      "authorship_tag": "ABX9TyOj5ZJ+d5Xl5VA00L38SFJo",
      "include_colab_link": true
    },
    "kernelspec": {
      "name": "python3",
      "display_name": "Python 3"
    },
    "language_info": {
      "name": "python"
    }
  },
  "cells": [
    {
      "cell_type": "markdown",
      "metadata": {
        "id": "view-in-github",
        "colab_type": "text"
      },
      "source": [
        "<a href=\"https://colab.research.google.com/github/davidkims/myproject/blob/main/%ED%8C%8C%EC%9D%B4%EC%8D%AC_%EA%B8%B0%EB%A7%90%EA%B3%A0%EC%82%AC_%EB%8C%80%EB%B9%84_%EA%B4%80%EB%A0%A8_%EC%BD%94%EB%93%9C_%ED%99%95%EC%9E%A5%EC%A0%95%EB%A6%AC.ipynb\" target=\"_parent\"><img src=\"https://colab.research.google.com/assets/colab-badge.svg\" alt=\"Open In Colab\"/></a>"
      ]
    },
    {
      "cell_type": "markdown",
      "source": [
        "hello world에서 양쪽 괄호를 닫는 유형에 대해서는 정상적으로 출력이 되지만 그렇지 않는 경우에는 출력이 안됩니다. 그리고 print는 괄호한에 내용을 출력을 무엇을 보여주냐?에 따라서 중요하게 됩니다."
      ],
      "metadata": {
        "id": "yqxmB0Yt8Rz4"
      }
    },
    {
      "cell_type": "code",
      "source": [
        "from collections import Counter\n",
        "\n",
        "with open('hamlet_by_Shakespeare.txt', 'r') as file:\n",
        "    content = file.read()\n",
        "    words = content.split()\n",
        "    word_counts = Counter(words)\n",
        "\n",
        "    # 모든 단어와 출현 횟수 출력\n",
        "    for word, count in word_counts.items():\n",
        "        print(f\"{word}: {count}\")\n",
        "\n",
        "    print(\"100 이상 출현한 단어:\")\n",
        "    # 출현 횟수가 100 이상인 단어와 출력 횟수 출력\n",
        "    for word, count in word_counts.items():\n",
        "        if count >= 100:\n",
        "            print(f\"{word}: {count}\")"
      ],
      "metadata": {
        "colab": {
          "base_uri": "https://localhost:8080/",
          "height": 248
        },
        "id": "fQ1gMX0baEKM",
        "outputId": "b26a5d0b-a480-44f3-e5d9-56d84c366dca"
      },
      "execution_count": 2,
      "outputs": [
        {
          "output_type": "error",
          "ename": "FileNotFoundError",
          "evalue": "ignored",
          "traceback": [
            "\u001b[0;31m---------------------------------------------------------------------------\u001b[0m",
            "\u001b[0;31mFileNotFoundError\u001b[0m                         Traceback (most recent call last)",
            "\u001b[0;32m<ipython-input-2-bc571eb3791b>\u001b[0m in \u001b[0;36m<cell line: 3>\u001b[0;34m()\u001b[0m\n\u001b[1;32m      1\u001b[0m \u001b[0;32mfrom\u001b[0m \u001b[0mcollections\u001b[0m \u001b[0;32mimport\u001b[0m \u001b[0mCounter\u001b[0m\u001b[0;34m\u001b[0m\u001b[0;34m\u001b[0m\u001b[0m\n\u001b[1;32m      2\u001b[0m \u001b[0;34m\u001b[0m\u001b[0m\n\u001b[0;32m----> 3\u001b[0;31m \u001b[0;32mwith\u001b[0m \u001b[0mopen\u001b[0m\u001b[0;34m(\u001b[0m\u001b[0;34m'hamlet_by_Shakespeare.txt'\u001b[0m\u001b[0;34m,\u001b[0m \u001b[0;34m'r'\u001b[0m\u001b[0;34m)\u001b[0m \u001b[0;32mas\u001b[0m \u001b[0mfile\u001b[0m\u001b[0;34m:\u001b[0m\u001b[0;34m\u001b[0m\u001b[0;34m\u001b[0m\u001b[0m\n\u001b[0m\u001b[1;32m      4\u001b[0m     \u001b[0mcontent\u001b[0m \u001b[0;34m=\u001b[0m \u001b[0mfile\u001b[0m\u001b[0;34m.\u001b[0m\u001b[0mread\u001b[0m\u001b[0;34m(\u001b[0m\u001b[0;34m)\u001b[0m\u001b[0;34m\u001b[0m\u001b[0;34m\u001b[0m\u001b[0m\n\u001b[1;32m      5\u001b[0m     \u001b[0mwords\u001b[0m \u001b[0;34m=\u001b[0m \u001b[0mcontent\u001b[0m\u001b[0;34m.\u001b[0m\u001b[0msplit\u001b[0m\u001b[0;34m(\u001b[0m\u001b[0;34m)\u001b[0m\u001b[0;34m\u001b[0m\u001b[0;34m\u001b[0m\u001b[0m\n",
            "\u001b[0;31mFileNotFoundError\u001b[0m: [Errno 2] No such file or directory: 'hamlet_by_Shakespeare.txt'"
          ]
        }
      ]
    },
    {
      "cell_type": "code",
      "source": [
        "import math\n",
        "\n",
        "# 원뿔 클래스 정의\n",
        "class Cone:\n",
        "    def __init__(self, radius=20, height=30):\n",
        "        self.r = radius\n",
        "        self.h = height\n",
        "\n",
        "    def get_vol(self):\n",
        "        return 1/3 * math.pi * self.r ** 2 * self.h\n",
        "\n",
        "    def get_surf(self):\n",
        "        return math.pi * self.r ** 2 + math.pi * self.r * self.h\n",
        "\n",
        "# math 모듈의 속성과 메서드 확인\n",
        "print(dir(math))\n",
        "\n",
        "# Cone 클래스의 속성과 메서드 확인\n",
        "print(dir(Cone))\n",
        "\n",
        "# math 모듈의 도움말 출력\n",
        "help(math)\n",
        "\n",
        "# Cone 클래스의 도움말 출력\n",
        "help(Cone)"
      ],
      "metadata": {
        "colab": {
          "base_uri": "https://localhost:8080/"
        },
        "id": "6Q2GpTPia6SG",
        "outputId": "180eea9a-b1df-4b98-ee71-660d5fc29070"
      },
      "execution_count": 4,
      "outputs": [
        {
          "output_type": "stream",
          "name": "stdout",
          "text": [
            "['__doc__', '__loader__', '__name__', '__package__', '__spec__', 'acos', 'acosh', 'asin', 'asinh', 'atan', 'atan2', 'atanh', 'ceil', 'comb', 'copysign', 'cos', 'cosh', 'degrees', 'dist', 'e', 'erf', 'erfc', 'exp', 'expm1', 'fabs', 'factorial', 'floor', 'fmod', 'frexp', 'fsum', 'gamma', 'gcd', 'hypot', 'inf', 'isclose', 'isfinite', 'isinf', 'isnan', 'isqrt', 'lcm', 'ldexp', 'lgamma', 'log', 'log10', 'log1p', 'log2', 'modf', 'nan', 'nextafter', 'perm', 'pi', 'pow', 'prod', 'radians', 'remainder', 'sin', 'sinh', 'sqrt', 'tan', 'tanh', 'tau', 'trunc', 'ulp']\n",
            "['__class__', '__delattr__', '__dict__', '__dir__', '__doc__', '__eq__', '__format__', '__ge__', '__getattribute__', '__gt__', '__hash__', '__init__', '__init_subclass__', '__le__', '__lt__', '__module__', '__ne__', '__new__', '__reduce__', '__reduce_ex__', '__repr__', '__setattr__', '__sizeof__', '__str__', '__subclasshook__', '__weakref__', 'get_surf', 'get_vol']\n",
            "Help on built-in module math:\n",
            "\n",
            "NAME\n",
            "    math\n",
            "\n",
            "DESCRIPTION\n",
            "    This module provides access to the mathematical functions\n",
            "    defined by the C standard.\n",
            "\n",
            "FUNCTIONS\n",
            "    acos(x, /)\n",
            "        Return the arc cosine (measured in radians) of x.\n",
            "        \n",
            "        The result is between 0 and pi.\n",
            "    \n",
            "    acosh(x, /)\n",
            "        Return the inverse hyperbolic cosine of x.\n",
            "    \n",
            "    asin(x, /)\n",
            "        Return the arc sine (measured in radians) of x.\n",
            "        \n",
            "        The result is between -pi/2 and pi/2.\n",
            "    \n",
            "    asinh(x, /)\n",
            "        Return the inverse hyperbolic sine of x.\n",
            "    \n",
            "    atan(x, /)\n",
            "        Return the arc tangent (measured in radians) of x.\n",
            "        \n",
            "        The result is between -pi/2 and pi/2.\n",
            "    \n",
            "    atan2(y, x, /)\n",
            "        Return the arc tangent (measured in radians) of y/x.\n",
            "        \n",
            "        Unlike atan(y/x), the signs of both x and y are considered.\n",
            "    \n",
            "    atanh(x, /)\n",
            "        Return the inverse hyperbolic tangent of x.\n",
            "    \n",
            "    ceil(x, /)\n",
            "        Return the ceiling of x as an Integral.\n",
            "        \n",
            "        This is the smallest integer >= x.\n",
            "    \n",
            "    comb(n, k, /)\n",
            "        Number of ways to choose k items from n items without repetition and without order.\n",
            "        \n",
            "        Evaluates to n! / (k! * (n - k)!) when k <= n and evaluates\n",
            "        to zero when k > n.\n",
            "        \n",
            "        Also called the binomial coefficient because it is equivalent\n",
            "        to the coefficient of k-th term in polynomial expansion of the\n",
            "        expression (1 + x)**n.\n",
            "        \n",
            "        Raises TypeError if either of the arguments are not integers.\n",
            "        Raises ValueError if either of the arguments are negative.\n",
            "    \n",
            "    copysign(x, y, /)\n",
            "        Return a float with the magnitude (absolute value) of x but the sign of y.\n",
            "        \n",
            "        On platforms that support signed zeros, copysign(1.0, -0.0)\n",
            "        returns -1.0.\n",
            "    \n",
            "    cos(x, /)\n",
            "        Return the cosine of x (measured in radians).\n",
            "    \n",
            "    cosh(x, /)\n",
            "        Return the hyperbolic cosine of x.\n",
            "    \n",
            "    degrees(x, /)\n",
            "        Convert angle x from radians to degrees.\n",
            "    \n",
            "    dist(p, q, /)\n",
            "        Return the Euclidean distance between two points p and q.\n",
            "        \n",
            "        The points should be specified as sequences (or iterables) of\n",
            "        coordinates.  Both inputs must have the same dimension.\n",
            "        \n",
            "        Roughly equivalent to:\n",
            "            sqrt(sum((px - qx) ** 2.0 for px, qx in zip(p, q)))\n",
            "    \n",
            "    erf(x, /)\n",
            "        Error function at x.\n",
            "    \n",
            "    erfc(x, /)\n",
            "        Complementary error function at x.\n",
            "    \n",
            "    exp(x, /)\n",
            "        Return e raised to the power of x.\n",
            "    \n",
            "    expm1(x, /)\n",
            "        Return exp(x)-1.\n",
            "        \n",
            "        This function avoids the loss of precision involved in the direct evaluation of exp(x)-1 for small x.\n",
            "    \n",
            "    fabs(x, /)\n",
            "        Return the absolute value of the float x.\n",
            "    \n",
            "    factorial(x, /)\n",
            "        Find x!.\n",
            "        \n",
            "        Raise a ValueError if x is negative or non-integral.\n",
            "    \n",
            "    floor(x, /)\n",
            "        Return the floor of x as an Integral.\n",
            "        \n",
            "        This is the largest integer <= x.\n",
            "    \n",
            "    fmod(x, y, /)\n",
            "        Return fmod(x, y), according to platform C.\n",
            "        \n",
            "        x % y may differ.\n",
            "    \n",
            "    frexp(x, /)\n",
            "        Return the mantissa and exponent of x, as pair (m, e).\n",
            "        \n",
            "        m is a float and e is an int, such that x = m * 2.**e.\n",
            "        If x is 0, m and e are both 0.  Else 0.5 <= abs(m) < 1.0.\n",
            "    \n",
            "    fsum(seq, /)\n",
            "        Return an accurate floating point sum of values in the iterable seq.\n",
            "        \n",
            "        Assumes IEEE-754 floating point arithmetic.\n",
            "    \n",
            "    gamma(x, /)\n",
            "        Gamma function at x.\n",
            "    \n",
            "    gcd(*integers)\n",
            "        Greatest Common Divisor.\n",
            "    \n",
            "    hypot(...)\n",
            "        hypot(*coordinates) -> value\n",
            "        \n",
            "        Multidimensional Euclidean distance from the origin to a point.\n",
            "        \n",
            "        Roughly equivalent to:\n",
            "            sqrt(sum(x**2 for x in coordinates))\n",
            "        \n",
            "        For a two dimensional point (x, y), gives the hypotenuse\n",
            "        using the Pythagorean theorem:  sqrt(x*x + y*y).\n",
            "        \n",
            "        For example, the hypotenuse of a 3/4/5 right triangle is:\n",
            "        \n",
            "            >>> hypot(3.0, 4.0)\n",
            "            5.0\n",
            "    \n",
            "    isclose(a, b, *, rel_tol=1e-09, abs_tol=0.0)\n",
            "        Determine whether two floating point numbers are close in value.\n",
            "        \n",
            "          rel_tol\n",
            "            maximum difference for being considered \"close\", relative to the\n",
            "            magnitude of the input values\n",
            "          abs_tol\n",
            "            maximum difference for being considered \"close\", regardless of the\n",
            "            magnitude of the input values\n",
            "        \n",
            "        Return True if a is close in value to b, and False otherwise.\n",
            "        \n",
            "        For the values to be considered close, the difference between them\n",
            "        must be smaller than at least one of the tolerances.\n",
            "        \n",
            "        -inf, inf and NaN behave similarly to the IEEE 754 Standard.  That\n",
            "        is, NaN is not close to anything, even itself.  inf and -inf are\n",
            "        only close to themselves.\n",
            "    \n",
            "    isfinite(x, /)\n",
            "        Return True if x is neither an infinity nor a NaN, and False otherwise.\n",
            "    \n",
            "    isinf(x, /)\n",
            "        Return True if x is a positive or negative infinity, and False otherwise.\n",
            "    \n",
            "    isnan(x, /)\n",
            "        Return True if x is a NaN (not a number), and False otherwise.\n",
            "    \n",
            "    isqrt(n, /)\n",
            "        Return the integer part of the square root of the input.\n",
            "    \n",
            "    lcm(*integers)\n",
            "        Least Common Multiple.\n",
            "    \n",
            "    ldexp(x, i, /)\n",
            "        Return x * (2**i).\n",
            "        \n",
            "        This is essentially the inverse of frexp().\n",
            "    \n",
            "    lgamma(x, /)\n",
            "        Natural logarithm of absolute value of Gamma function at x.\n",
            "    \n",
            "    log(...)\n",
            "        log(x, [base=math.e])\n",
            "        Return the logarithm of x to the given base.\n",
            "        \n",
            "        If the base not specified, returns the natural logarithm (base e) of x.\n",
            "    \n",
            "    log10(x, /)\n",
            "        Return the base 10 logarithm of x.\n",
            "    \n",
            "    log1p(x, /)\n",
            "        Return the natural logarithm of 1+x (base e).\n",
            "        \n",
            "        The result is computed in a way which is accurate for x near zero.\n",
            "    \n",
            "    log2(x, /)\n",
            "        Return the base 2 logarithm of x.\n",
            "    \n",
            "    modf(x, /)\n",
            "        Return the fractional and integer parts of x.\n",
            "        \n",
            "        Both results carry the sign of x and are floats.\n",
            "    \n",
            "    nextafter(x, y, /)\n",
            "        Return the next floating-point value after x towards y.\n",
            "    \n",
            "    perm(n, k=None, /)\n",
            "        Number of ways to choose k items from n items without repetition and with order.\n",
            "        \n",
            "        Evaluates to n! / (n - k)! when k <= n and evaluates\n",
            "        to zero when k > n.\n",
            "        \n",
            "        If k is not specified or is None, then k defaults to n\n",
            "        and the function returns n!.\n",
            "        \n",
            "        Raises TypeError if either of the arguments are not integers.\n",
            "        Raises ValueError if either of the arguments are negative.\n",
            "    \n",
            "    pow(x, y, /)\n",
            "        Return x**y (x to the power of y).\n",
            "    \n",
            "    prod(iterable, /, *, start=1)\n",
            "        Calculate the product of all the elements in the input iterable.\n",
            "        \n",
            "        The default start value for the product is 1.\n",
            "        \n",
            "        When the iterable is empty, return the start value.  This function is\n",
            "        intended specifically for use with numeric values and may reject\n",
            "        non-numeric types.\n",
            "    \n",
            "    radians(x, /)\n",
            "        Convert angle x from degrees to radians.\n",
            "    \n",
            "    remainder(x, y, /)\n",
            "        Difference between x and the closest integer multiple of y.\n",
            "        \n",
            "        Return x - n*y where n*y is the closest integer multiple of y.\n",
            "        In the case where x is exactly halfway between two multiples of\n",
            "        y, the nearest even value of n is used. The result is always exact.\n",
            "    \n",
            "    sin(x, /)\n",
            "        Return the sine of x (measured in radians).\n",
            "    \n",
            "    sinh(x, /)\n",
            "        Return the hyperbolic sine of x.\n",
            "    \n",
            "    sqrt(x, /)\n",
            "        Return the square root of x.\n",
            "    \n",
            "    tan(x, /)\n",
            "        Return the tangent of x (measured in radians).\n",
            "    \n",
            "    tanh(x, /)\n",
            "        Return the hyperbolic tangent of x.\n",
            "    \n",
            "    trunc(x, /)\n",
            "        Truncates the Real x to the nearest Integral toward 0.\n",
            "        \n",
            "        Uses the __trunc__ magic method.\n",
            "    \n",
            "    ulp(x, /)\n",
            "        Return the value of the least significant bit of the float x.\n",
            "\n",
            "DATA\n",
            "    e = 2.718281828459045\n",
            "    inf = inf\n",
            "    nan = nan\n",
            "    pi = 3.141592653589793\n",
            "    tau = 6.283185307179586\n",
            "\n",
            "FILE\n",
            "    (built-in)\n",
            "\n",
            "\n",
            "Help on class Cone in module __main__:\n",
            "\n",
            "class Cone(builtins.object)\n",
            " |  Cone(radius=20, height=30)\n",
            " |  \n",
            " |  Methods defined here:\n",
            " |  \n",
            " |  __init__(self, radius=20, height=30)\n",
            " |      Initialize self.  See help(type(self)) for accurate signature.\n",
            " |  \n",
            " |  get_surf(self)\n",
            " |  \n",
            " |  get_vol(self)\n",
            " |  \n",
            " |  ----------------------------------------------------------------------\n",
            " |  Data descriptors defined here:\n",
            " |  \n",
            " |  __dict__\n",
            " |      dictionary for instance variables (if defined)\n",
            " |  \n",
            " |  __weakref__\n",
            " |      list of weak references to the object (if defined)\n",
            "\n"
          ]
        }
      ]
    },
    {
      "cell_type": "code",
      "source": [
        "import math\n",
        "\n",
        "def calculate_triangle_area(a, b, alpha):\n",
        "    # 각을 라디안으로 변환\n",
        "    alpha_rad = math.radians(alpha)\n",
        "\n",
        "    # 넓이 계산\n",
        "    area = (1/2) * a * b * math.sin(alpha_rad)\n",
        "\n",
        "    return area\n",
        "\n",
        "# 사용자로부터 입력 받기\n",
        "a = float(input(\"첫 번째 변의 길이를 입력하세요: \"))\n",
        "b = float(input(\"두 번째 변의 길이를 입력하세요: \"))\n",
        "alpha = float(input(\"끼인각을 입력하세요: \"))\n",
        "\n",
        "# 삼각형의 넓이 계산\n",
        "triangle_area = calculate_triangle_area(a, b, alpha)\n",
        "\n",
        "# 결과 출력\n",
        "print(\"삼각형의 넓이는\", triangle_area, \"입니다.\")"
      ],
      "metadata": {
        "colab": {
          "base_uri": "https://localhost:8080/"
        },
        "id": "P57Clp5KbeoZ",
        "outputId": "b8585d65-e1b2-41bf-fcc5-92edb1361cb4"
      },
      "execution_count": 5,
      "outputs": [
        {
          "output_type": "stream",
          "name": "stdout",
          "text": [
            "첫 번째 변의 길이를 입력하세요: 10\n",
            "두 번째 변의 길이를 입력하세요: 20\n",
            "끼인각을 입력하세요: 300\n",
            "삼각형의 넓이는 -86.60254037844386 입니다.\n"
          ]
        }
      ]
    },
    {
      "cell_type": "code",
      "source": [
        "with open('Khan.txt', 'r') as file:\n",
        "    content = file.read()\n",
        "    # 파일 내용을 처리하는 코드 작성\n",
        "    # 예시: 파일 내용을 화면에 출력하는 경우\n",
        "    print(content)"
      ],
      "metadata": {
        "id": "pmYMrjA-a8zP"
      },
      "execution_count": null,
      "outputs": []
    },
    {
      "cell_type": "code",
      "source": [
        "def check_lottery_numbers(user_numbers, winning_numbers):\n",
        "    # 입력된 숫자와 당첨 숫자의 중복 여부 확인\n",
        "    if len(user_numbers) != len(set(user_numbers)):\n",
        "        return \"입력된 숫자에 중복이 있습니다.\"\n",
        "\n",
        "    if len(winning_numbers) != len(set(winning_numbers)):\n",
        "        return \"당첨 숫자에 중복이 있습니다.\"\n",
        "\n",
        "    # 입력된 숫자와 당첨 숫자의 일치하는 개수 계산\n",
        "    matching_numbers = set(user_numbers) & set(winning_numbers)\n",
        "    matching_count = len(matching_numbers)\n",
        "\n",
        "    # 등수 확인\n",
        "    if matching_count == 6:\n",
        "        return \"1등입니다! 모든 숫자가 일치합니다.\"\n",
        "    elif matching_count == 5:\n",
        "        return \"2등입니다! 5개의 숫자가 일치합니다.\"\n",
        "    elif matching_count == 4:\n",
        "        return \"3등입니다! 4개의 숫자가 일치합니다.\"\n",
        "    elif matching_count == 3:\n",
        "        return \"4등입니다! 3개의 숫자가 일치합니다.\"\n",
        "    elif matching_count == 2:\n",
        "        return \"5등입니다! 2개의 숫자가 일치합니다.\"\n",
        "    else:\n",
        "        return \"당첨되지 않았습니다.\"\n",
        "\n",
        "# 사용자로부터 입력 받기\n",
        "user_numbers = []\n",
        "for i in range(6):\n",
        "    number = int(input(f\"{i+1}번째 숫자를 입력하세요 (1~45): \"))\n",
        "    user_numbers.append(number)\n",
        "\n",
        "# 당첨 숫자 (임의로 설정)\n",
        "winning_numbers = [3, 7, 12, 22, 30, 42]\n",
        "\n",
        "# 결과 출력\n",
        "result = check_lottery_numbers(user_numbers, winning_numbers)\n",
        "print(result)"
      ],
      "metadata": {
        "colab": {
          "base_uri": "https://localhost:8080/"
        },
        "id": "1OwHJ9x4bTcu",
        "outputId": "d52e0adb-3c97-4fb2-9ce4-4321380eb29e"
      },
      "execution_count": 6,
      "outputs": [
        {
          "output_type": "stream",
          "name": "stdout",
          "text": [
            "1번째 숫자를 입력하세요 (1~45): 3\n",
            "2번째 숫자를 입력하세요 (1~45): 7\n",
            "3번째 숫자를 입력하세요 (1~45): 12\n",
            "4번째 숫자를 입력하세요 (1~45): 22\n",
            "5번째 숫자를 입력하세요 (1~45): 30\n",
            "6번째 숫자를 입력하세요 (1~45): 42\n",
            "1등입니다! 모든 숫자가 일치합니다.\n"
          ]
        }
      ]
    },
    {
      "cell_type": "code",
      "execution_count": null,
      "metadata": {
        "colab": {
          "base_uri": "https://localhost:8080/"
        },
        "id": "3_eIX5fg6ptP",
        "outputId": "039ea0d3-bbdc-437a-87d7-bcb004cbad08"
      },
      "outputs": [
        {
          "output_type": "stream",
          "name": "stdout",
          "text": [
            "hello world\n"
          ]
        }
      ],
      "source": [
        "print(\"hello world\")"
      ]
    },
    {
      "cell_type": "markdown",
      "source": [
        "hello world에서도 괄호 없이도 글의 양쪽 에 \" \"를 입력해주냐? 아니냐?에 따라서 보여주는지 아닌지?가 중요해집니다"
      ],
      "metadata": {
        "id": "VY8gBQdv8tOB"
      }
    },
    {
      "cell_type": "code",
      "source": [
        "\"hello world\""
      ],
      "metadata": {
        "colab": {
          "base_uri": "https://localhost:8080/",
          "height": 35
        },
        "id": "WnuQOLIq8Pd-",
        "outputId": "fe30c459-7a1c-47fa-c61b-8938f9f791fa"
      },
      "execution_count": null,
      "outputs": [
        {
          "output_type": "execute_result",
          "data": {
            "text/plain": [
              "'hello world'"
            ],
            "application/vnd.google.colaboratory.intrinsic+json": {
              "type": "string"
            }
          },
          "metadata": {},
          "execution_count": 7
        }
      ]
    },
    {
      "cell_type": "code",
      "source": [
        "print(1 / 3 * 3.14 * 20 ** 2 * 30 )\n",
        "print(3.14 * 20 ** 2 + 3.14 * 20 * 30)"
      ],
      "metadata": {
        "colab": {
          "base_uri": "https://localhost:8080/"
        },
        "id": "pqz59ork878W",
        "outputId": "96ef461a-f5fd-4a99-d91c-acead2fe59c8"
      },
      "execution_count": null,
      "outputs": [
        {
          "output_type": "stream",
          "name": "stdout",
          "text": [
            "12559.999999999998\n",
            "3140.0\n"
          ]
        }
      ]
    },
    {
      "cell_type": "markdown",
      "source": [
        "print(1 / 3 * 3.14 * 20 ** 2 * 30 ) --> 나누기는 / , 곱하기는 * , 거듭제곱는 **입니다. "
      ],
      "metadata": {
        "id": "bOXxyj8W9C2K"
      }
    },
    {
      "cell_type": "code",
      "source": [
        "n = 5  # 삼각형의 높이 설정\n",
        "\n",
        "for i in range(1, n + 1):\n",
        "    print('*' * i)"
      ],
      "metadata": {
        "colab": {
          "base_uri": "https://localhost:8080/"
        },
        "id": "Eh8TdPdGCLKH",
        "outputId": "874d43a0-1f3c-4cb8-f4c1-d1df7be31d85"
      },
      "execution_count": null,
      "outputs": [
        {
          "output_type": "stream",
          "name": "stdout",
          "text": [
            "*\n",
            "**\n",
            "***\n",
            "****\n",
            "*****\n"
          ]
        }
      ]
    },
    {
      "cell_type": "code",
      "source": [
        "#반지름, 높이 값 할당\n",
        "rad = 20\n",
        "hei = 30\n",
        "#부피 출력\n",
        "print(1 / 3 * 3.14 * rad ** 2 * hei )\n",
        "#겉넓이 출력\n",
        "print(3.14 * rad ** 2 + 3.14 * rad * hei)"
      ],
      "metadata": {
        "colab": {
          "base_uri": "https://localhost:8080/"
        },
        "id": "MPbDZshxCSmn",
        "outputId": "29b55ac0-bd00-48e8-de7a-1dc015cd1430"
      },
      "execution_count": null,
      "outputs": [
        {
          "output_type": "stream",
          "name": "stdout",
          "text": [
            "12559.999999999998\n",
            "3140.0\n"
          ]
        }
      ]
    },
    {
      "cell_type": "markdown",
      "source": [
        "기말고사 대비 문제\n",
        "반지름 , 높이 그리고 여기서 나누기 , 제곱 , 거듭제곱의 기능을 잘못 표현하게 될 경우를 생각할것"
      ],
      "metadata": {
        "id": "SQOn8wgUCjNS"
      }
    },
    {
      "cell_type": "code",
      "source": [
        "#반지름, 높이 값 할당\n",
        "rad = 10\n",
        "hei = 20\n",
        "#부피 출력\n",
        "print(1 / 2 * 3.14 * rad ** 1 * hei )\n",
        "#겉넓이 출력\n",
        "print(3.14 * rad ** 1 + 3.14 * rad * hei)"
      ],
      "metadata": {
        "colab": {
          "base_uri": "https://localhost:8080/"
        },
        "id": "LkBWaZq6CiNF",
        "outputId": "987e1d68-3305-4059-91c2-7186830db50f"
      },
      "execution_count": null,
      "outputs": [
        {
          "output_type": "stream",
          "name": "stdout",
          "text": [
            "314.0\n",
            "659.4\n"
          ]
        }
      ]
    },
    {
      "cell_type": "markdown",
      "source": [
        "기말고사 대비 문제 반지름 , 높이 그리고 여기서 나누기 , 제곱 , 거듭제곱의 기능을 잘못 표현하게 될 경우를 생각할것\n",
        "int는 정수의 코드이고 input 변수를 쓰고 그 사이에 괄호를 넣어서 무엇을 써야할찌를 넣어줘야 합니다"
      ],
      "metadata": {
        "id": "OY50oiBmEfI-"
      }
    },
    {
      "cell_type": "code",
      "source": [
        "#반지름 사용자 입력\n",
        "rad = int(input(\"반지름을 입력하세요:\"))\n",
        "#높이 사용자 입력\n",
        "hei = int(input(\"높이를 입력하세요:\"))\n",
        "#부피&겉넓이 계산\n",
        "vol = 1/3 * 3.14 * rad ** 2 * hei\n",
        "suf = 3.14 * rad ** 2 + 3.14 * rad * hei\n",
        "print(\"원뿔의 부피는\" ,vol, \"입니다.\")\n",
        "print(\"원뿔의 겉넓이는\" ,suf, \"입니다\")"
      ],
      "metadata": {
        "colab": {
          "base_uri": "https://localhost:8080/"
        },
        "id": "o3o7IFZ6EYiU",
        "outputId": "58c4083b-5fd1-426d-ca2c-53e7f115584e"
      },
      "execution_count": null,
      "outputs": [
        {
          "output_type": "stream",
          "name": "stdout",
          "text": [
            "반지름을 입력하세요:10\n",
            "높이를 입력하세요:20\n",
            "원뿔의 부피는 2093.333333333333 입니다.\n",
            "원뿔의 겉넓이는 942.0 입니다\n"
          ]
        }
      ]
    },
    {
      "cell_type": "code",
      "source": [
        "numbers = [10, 5, 8, 20, 3]  # 숫자 리스트\n",
        "\n",
        "max_number = max(numbers)\n",
        "print(\"가장 큰 수:\", max_number)"
      ],
      "metadata": {
        "colab": {
          "base_uri": "https://localhost:8080/"
        },
        "id": "TqGmgNmOFPtY",
        "outputId": "a9a91f23-053b-4f4d-d9c7-94676f581ebd"
      },
      "execution_count": null,
      "outputs": [
        {
          "output_type": "stream",
          "name": "stdout",
          "text": [
            "가장 큰 수: 20\n"
          ]
        }
      ]
    },
    {
      "cell_type": "code",
      "source": [
        "for i in range(5):\n",
        "    print(i)"
      ],
      "metadata": {
        "colab": {
          "base_uri": "https://localhost:8080/"
        },
        "id": "aD3kqH4lHBhd",
        "outputId": "7ac6164e-8935-4e09-c209-fbb8910ffd7f"
      },
      "execution_count": null,
      "outputs": [
        {
          "output_type": "stream",
          "name": "stdout",
          "text": [
            "0\n",
            "1\n",
            "2\n",
            "3\n",
            "4\n"
          ]
        }
      ]
    },
    {
      "cell_type": "code",
      "source": [
        "fruits = [\"사과\", \"바나나\", \"딸기\"]\n",
        "\n",
        "for fruit in fruits:\n",
        "    print(fruit)"
      ],
      "metadata": {
        "colab": {
          "base_uri": "https://localhost:8080/"
        },
        "id": "URYqY1-AHi99",
        "outputId": "b6fe1de4-d6ae-4660-8af8-449f9ef9d21a"
      },
      "execution_count": null,
      "outputs": [
        {
          "output_type": "stream",
          "name": "stdout",
          "text": [
            "사과\n",
            "바나나\n",
            "딸기\n"
          ]
        }
      ]
    },
    {
      "cell_type": "markdown",
      "source": [
        "루프 loop 에 대한 코드입니다\n",
        "파이썬의 반복구조 루프는 특정 영역의 숫자를 여러번 실행하게 해주는 구조입니다"
      ],
      "metadata": {
        "id": "vmB8ZdQAHF81"
      }
    },
    {
      "cell_type": "code",
      "source": [
        "count = 0\n",
        "while count < 5:\n",
        "    print(\"Hello\")\n",
        "    count += 1"
      ],
      "metadata": {
        "colab": {
          "base_uri": "https://localhost:8080/"
        },
        "id": "67JOYowqHoTO",
        "outputId": "d0f4344f-11c6-4d74-90d5-10850f62ad2d"
      },
      "execution_count": null,
      "outputs": [
        {
          "output_type": "stream",
          "name": "stdout",
          "text": [
            "Hello\n",
            "Hello\n",
            "Hello\n",
            "Hello\n",
            "Hello\n"
          ]
        }
      ]
    },
    {
      "cell_type": "code",
      "source": [
        "num = int(input(\"출력할 구구단의 숫자를 입력하세요: \"))\n",
        "\n",
        "for i in range(1, 10):\n",
        "    result = num * i\n",
        "    print(f\"{num} x {i} = {result}\")"
      ],
      "metadata": {
        "colab": {
          "base_uri": "https://localhost:8080/"
        },
        "id": "00LslcmMLmZb",
        "outputId": "a6e6684c-5dd0-49b3-c7f3-09bc1c697a7c"
      },
      "execution_count": null,
      "outputs": [
        {
          "output_type": "stream",
          "name": "stdout",
          "text": [
            "출력할 구구단의 숫자를 입력하세요: 2\n",
            "2 x 1 = 2\n",
            "2 x 2 = 4\n",
            "2 x 3 = 6\n",
            "2 x 4 = 8\n",
            "2 x 5 = 10\n",
            "2 x 6 = 12\n",
            "2 x 7 = 14\n",
            "2 x 8 = 16\n",
            "2 x 9 = 18\n"
          ]
        }
      ]
    },
    {
      "cell_type": "code",
      "source": [
        "if rad > 0 and hei > 0 :\n",
        "    # r, h 모두 양수일 때\n",
        "    vol = 1/3 * 3.14 * rad ** 2 * hei\n",
        "    print(\"원뿔의 부피는\", vol, \"입니다.\")\n",
        "else :\n",
        "  # r, h가 음수일 때\n",
        "  print(\"반지름과 높이 값에 양수를 입력하세요\")"
      ],
      "metadata": {
        "colab": {
          "base_uri": "https://localhost:8080/"
        },
        "id": "5XwKVIwIMbHN",
        "outputId": "f4fd678a-1403-425d-8603-a98d792f036d"
      },
      "execution_count": null,
      "outputs": [
        {
          "output_type": "stream",
          "name": "stdout",
          "text": [
            "원뿔의 부피는 2093.333333333333 입니다.\n"
          ]
        }
      ]
    },
    {
      "cell_type": "code",
      "source": [
        "import math\n",
        "\n",
        "def calculate_cone_volume(radius, height):\n",
        "    if radius > 0 and height > 0:\n",
        "        volume = (1/3) * math.pi * radius**2 * height\n",
        "        return volume\n",
        "    else:\n",
        "        return None\n",
        "\n",
        "# 반지름과 높이 값을 사용자로부터 입력받기\n",
        "radius = float(input(\"반지름을 입력하세요: \"))\n",
        "height = float(input(\"높이를 입력하세요: \"))\n",
        "\n",
        "# 원뿔의 부피 계산 함수 호출\n",
        "cone_volume = calculate_cone_volume(radius, height)\n",
        "\n",
        "if cone_volume is not None:\n",
        "    print(\"원뿔의 부피는\", cone_volume, \"입니다.\")\n",
        "else:\n",
        "    print(\"반지름과 높이 값에 양수를 입력하세요.\")"
      ],
      "metadata": {
        "colab": {
          "base_uri": "https://localhost:8080/"
        },
        "id": "qnq7KsvIM1uK",
        "outputId": "29fef172-4762-4f45-fe46-ac31adebc372"
      },
      "execution_count": null,
      "outputs": [
        {
          "output_type": "stream",
          "name": "stdout",
          "text": [
            "반지름을 입력하세요: 10\n",
            "높이를 입력하세요: 20\n",
            "원뿔의 부피는 2094.3951023931954 입니다.\n"
          ]
        }
      ]
    },
    {
      "cell_type": "code",
      "source": [
        "my_list = [10, 20, 30, 40, 50]\n",
        "print(my_list[-1])  # 마지막 요소에 접근하여 값 출력\n",
        "print(my_list[-3])  # 세 번째 요소(뒤에서 세 번째)에 접근하여 값 출력"
      ],
      "metadata": {
        "colab": {
          "base_uri": "https://localhost:8080/"
        },
        "id": "XknulrgmO5lR",
        "outputId": "896e2252-d759-487e-d9f0-32dc6fc2480a"
      },
      "execution_count": null,
      "outputs": [
        {
          "output_type": "stream",
          "name": "stdout",
          "text": [
            "50\n",
            "30\n"
          ]
        }
      ]
    },
    {
      "cell_type": "code",
      "source": [
        "numbers = range(5)\n",
        "print(list(numbers))  # [0, 1, 2, 3, 4] 출력"
      ],
      "metadata": {
        "colab": {
          "base_uri": "https://localhost:8080/"
        },
        "id": "_Si76ArmQGWF",
        "outputId": "1bba98c7-87b6-4b4a-dbd3-fe1fbea3efb1"
      },
      "execution_count": null,
      "outputs": [
        {
          "output_type": "stream",
          "name": "stdout",
          "text": [
            "[0, 1, 2, 3, 4]\n"
          ]
        }
      ]
    },
    {
      "cell_type": "code",
      "source": [
        "value1 = 10\n",
        "value2 = \"hello\"\n",
        "\n",
        "formatted_string = \"포맷된 문자열\".format(value1, value2)"
      ],
      "metadata": {
        "id": "b0FeffENRZzR"
      },
      "execution_count": null,
      "outputs": []
    },
    {
      "cell_type": "code",
      "source": [
        "# 첫번째 식: 반지름이 20이고 높이가 30인 원기둥의 부피를 계산\n",
        "volume_cylinder = 1 / 3 * 3.14 * 20 ** 2 * 30\n",
        "\n",
        "# 두번째 식: 반지름이 20인 원의 면적과 반지름이 20이고 높이가 30인 원기둥의 측면 넓이의 합을 계산\n",
        "area_sum = 3.14 * 20 ** 2 + 2 * 3.14 * 20 * 30\n",
        "\n",
        "print(volume_cylinder)  # 결과를 출력\n",
        "print(area_sum)         # 결과를 출력"
      ],
      "metadata": {
        "id": "CXQK95bjYiE4",
        "outputId": "01a4fb73-30f3-435d-ffa3-bf6fdf59c8d3",
        "colab": {
          "base_uri": "https://localhost:8080/"
        }
      },
      "execution_count": null,
      "outputs": [
        {
          "output_type": "stream",
          "name": "stdout",
          "text": [
            "12559.999999999998\n",
            "5024.0\n"
          ]
        }
      ]
    }
  ]
}