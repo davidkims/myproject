{
  "nbformat": 4,
  "nbformat_minor": 0,
  "metadata": {
    "colab": {
      "provenance": [],
      "authorship_tag": "ABX9TyP1LhCwvELTl+7SaQtf0I7p",
      "include_colab_link": true
    },
    "kernelspec": {
      "name": "python3",
      "display_name": "Python 3"
    },
    "language_info": {
      "name": "python"
    }
  },
  "cells": [
    {
      "cell_type": "markdown",
      "metadata": {
        "id": "view-in-github",
        "colab_type": "text"
      },
      "source": [
        "<a href=\"https://colab.research.google.com/github/davidkims/myproject/blob/main/%ED%8C%8C%EC%9D%B4%EC%8D%AC_%EA%B8%B0%EB%A7%90%EA%B3%A0%EC%82%AC_%EB%8C%80%EB%B9%84_%EA%B4%80%EB%A0%A8_%EC%BD%94%EB%93%9C_%EC%A0%95%EB%A6%AC.ipynb\" target=\"_parent\"><img src=\"https://colab.research.google.com/assets/colab-badge.svg\" alt=\"Open In Colab\"/></a>"
      ]
    },
    {
      "cell_type": "markdown",
      "source": [
        "hello world에서 양쪽 괄호를 닫는 유형에 대해서는 정상적으로 출력이 되지만 그렇지 않는 경우에는 출력이 안됩니다. 그리고 print는 괄호한에 내용을 출력을 무엇을 보여주냐?에 따라서 중요하게 됩니다."
      ],
      "metadata": {
        "id": "yqxmB0Yt8Rz4"
      }
    },
    {
      "cell_type": "code",
      "execution_count": 6,
      "metadata": {
        "colab": {
          "base_uri": "https://localhost:8080/"
        },
        "id": "3_eIX5fg6ptP",
        "outputId": "039ea0d3-bbdc-437a-87d7-bcb004cbad08"
      },
      "outputs": [
        {
          "output_type": "stream",
          "name": "stdout",
          "text": [
            "hello world\n"
          ]
        }
      ],
      "source": [
        "print(\"hello world\")"
      ]
    },
    {
      "cell_type": "markdown",
      "source": [
        "hello world에서도 괄호 없이도 글의 양쪽 에 \" \"를 입력해주냐? 아니냐?에 따라서 보여주는지 아닌지?가 중요해집니다"
      ],
      "metadata": {
        "id": "VY8gBQdv8tOB"
      }
    },
    {
      "cell_type": "code",
      "source": [
        "\"hello world\""
      ],
      "metadata": {
        "colab": {
          "base_uri": "https://localhost:8080/",
          "height": 35
        },
        "id": "WnuQOLIq8Pd-",
        "outputId": "fe30c459-7a1c-47fa-c61b-8938f9f791fa"
      },
      "execution_count": 7,
      "outputs": [
        {
          "output_type": "execute_result",
          "data": {
            "text/plain": [
              "'hello world'"
            ],
            "application/vnd.google.colaboratory.intrinsic+json": {
              "type": "string"
            }
          },
          "metadata": {},
          "execution_count": 7
        }
      ]
    },
    {
      "cell_type": "code",
      "source": [
        "print(1 / 3 * 3.14 * 20 ** 2 * 30 )\n",
        "print(3.14 * 20 ** 2 + 3.14 * 20 * 30)"
      ],
      "metadata": {
        "colab": {
          "base_uri": "https://localhost:8080/"
        },
        "id": "pqz59ork878W",
        "outputId": "96ef461a-f5fd-4a99-d91c-acead2fe59c8"
      },
      "execution_count": 8,
      "outputs": [
        {
          "output_type": "stream",
          "name": "stdout",
          "text": [
            "12559.999999999998\n",
            "3140.0\n"
          ]
        }
      ]
    },
    {
      "cell_type": "markdown",
      "source": [
        "print(1 / 3 * 3.14 * 20 ** 2 * 30 ) --> 나누기는 / , 곱하기는 * , 거듭제곱는 **입니다. "
      ],
      "metadata": {
        "id": "bOXxyj8W9C2K"
      }
    },
    {
      "cell_type": "code",
      "source": [
        "n = 5  # 삼각형의 높이 설정\n",
        "\n",
        "for i in range(1, n + 1):\n",
        "    print('*' * i)"
      ],
      "metadata": {
        "colab": {
          "base_uri": "https://localhost:8080/"
        },
        "id": "Eh8TdPdGCLKH",
        "outputId": "874d43a0-1f3c-4cb8-f4c1-d1df7be31d85"
      },
      "execution_count": 9,
      "outputs": [
        {
          "output_type": "stream",
          "name": "stdout",
          "text": [
            "*\n",
            "**\n",
            "***\n",
            "****\n",
            "*****\n"
          ]
        }
      ]
    },
    {
      "cell_type": "code",
      "source": [
        "#반지름, 높이 값 할당\n",
        "rad = 20\n",
        "hei = 30\n",
        "#부피 출력\n",
        "print(1 / 3 * 3.14 * rad ** 2 * hei )\n",
        "#겉넓이 출력\n",
        "print(3.14 * rad ** 2 + 3.14 * rad * hei)"
      ],
      "metadata": {
        "colab": {
          "base_uri": "https://localhost:8080/"
        },
        "id": "MPbDZshxCSmn",
        "outputId": "29b55ac0-bd00-48e8-de7a-1dc015cd1430"
      },
      "execution_count": 10,
      "outputs": [
        {
          "output_type": "stream",
          "name": "stdout",
          "text": [
            "12559.999999999998\n",
            "3140.0\n"
          ]
        }
      ]
    },
    {
      "cell_type": "markdown",
      "source": [
        "기말고사 대비 문제\n",
        "반지름 , 높이 그리고 여기서 나누기 , 제곱 , 거듭제곱의 기능을 잘못 표현하게 될 경우를 생각할것"
      ],
      "metadata": {
        "id": "SQOn8wgUCjNS"
      }
    },
    {
      "cell_type": "code",
      "source": [
        "#반지름, 높이 값 할당\n",
        "rad = 10\n",
        "hei = 20\n",
        "#부피 출력\n",
        "print(1 / 2 * 3.14 * rad ** 1 * hei )\n",
        "#겉넓이 출력\n",
        "print(3.14 * rad ** 1 + 3.14 * rad * hei)"
      ],
      "metadata": {
        "colab": {
          "base_uri": "https://localhost:8080/"
        },
        "id": "LkBWaZq6CiNF",
        "outputId": "987e1d68-3305-4059-91c2-7186830db50f"
      },
      "execution_count": 12,
      "outputs": [
        {
          "output_type": "stream",
          "name": "stdout",
          "text": [
            "314.0\n",
            "659.4\n"
          ]
        }
      ]
    },
    {
      "cell_type": "markdown",
      "source": [
        "기말고사 대비 문제 반지름 , 높이 그리고 여기서 나누기 , 제곱 , 거듭제곱의 기능을 잘못 표현하게 될 경우를 생각할것\n",
        "int는 정수의 코드이고 input 변수를 쓰고 그 사이에 괄호를 넣어서 무엇을 써야할찌를 넣어줘야 합니다"
      ],
      "metadata": {
        "id": "OY50oiBmEfI-"
      }
    },
    {
      "cell_type": "code",
      "source": [
        "#반지름 사용자 입력\n",
        "rad = int(input(\"반지름을 입력하세요:\"))\n",
        "#높이 사용자 입력\n",
        "hei = int(input(\"높이를 입력하세요:\"))\n",
        "#부피&겉넓이 계산\n",
        "vol = 1/3 * 3.14 * rad ** 2 * hei\n",
        "suf = 3.14 * rad ** 2 + 3.14 * rad * hei\n",
        "print(\"원뿔의 부피는\" ,vol, \"입니다.\")\n",
        "print(\"원뿔의 겉넓이는\" ,suf, \"입니다\")"
      ],
      "metadata": {
        "colab": {
          "base_uri": "https://localhost:8080/"
        },
        "id": "o3o7IFZ6EYiU",
        "outputId": "58c4083b-5fd1-426d-ca2c-53e7f115584e"
      },
      "execution_count": 13,
      "outputs": [
        {
          "output_type": "stream",
          "name": "stdout",
          "text": [
            "반지름을 입력하세요:10\n",
            "높이를 입력하세요:20\n",
            "원뿔의 부피는 2093.333333333333 입니다.\n",
            "원뿔의 겉넓이는 942.0 입니다\n"
          ]
        }
      ]
    },
    {
      "cell_type": "code",
      "source": [
        "numbers = [10, 5, 8, 20, 3]  # 숫자 리스트\n",
        "\n",
        "max_number = max(numbers)\n",
        "print(\"가장 큰 수:\", max_number)"
      ],
      "metadata": {
        "colab": {
          "base_uri": "https://localhost:8080/"
        },
        "id": "TqGmgNmOFPtY",
        "outputId": "a9a91f23-053b-4f4d-d9c7-94676f581ebd"
      },
      "execution_count": 14,
      "outputs": [
        {
          "output_type": "stream",
          "name": "stdout",
          "text": [
            "가장 큰 수: 20\n"
          ]
        }
      ]
    }
  ]
}