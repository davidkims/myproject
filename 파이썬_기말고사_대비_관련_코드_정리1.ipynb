{
  "nbformat": 4,
  "nbformat_minor": 0,
  "metadata": {
    "colab": {
      "provenance": [],
      "authorship_tag": "ABX9TyN079z0ovpPJ3O5Lj/l0rLR",
      "include_colab_link": true
    },
    "kernelspec": {
      "name": "python3",
      "display_name": "Python 3"
    },
    "language_info": {
      "name": "python"
    }
  },
  "cells": [
    {
      "cell_type": "markdown",
      "metadata": {
        "id": "view-in-github",
        "colab_type": "text"
      },
      "source": [
        "<a href=\"https://colab.research.google.com/github/davidkims/myproject/blob/main/%ED%8C%8C%EC%9D%B4%EC%8D%AC_%EA%B8%B0%EB%A7%90%EA%B3%A0%EC%82%AC_%EB%8C%80%EB%B9%84_%EA%B4%80%EB%A0%A8_%EC%BD%94%EB%93%9C_%EC%A0%95%EB%A6%AC1.ipynb\" target=\"_parent\"><img src=\"https://colab.research.google.com/assets/colab-badge.svg\" alt=\"Open In Colab\"/></a>"
      ]
    },
    {
      "cell_type": "markdown",
      "source": [
        "hello world에서 양쪽 괄호를 닫는 유형에 대해서는 정상적으로 출력이 되지만 그렇지 않는 경우에는 출력이 안됩니다. 그리고 print는 괄호한에 내용을 출력을 무엇을 보여주냐?에 따라서 중요하게 됩니다."
      ],
      "metadata": {
        "id": "yqxmB0Yt8Rz4"
      }
    },
    {
      "cell_type": "code",
      "execution_count": null,
      "metadata": {
        "colab": {
          "base_uri": "https://localhost:8080/"
        },
        "id": "3_eIX5fg6ptP",
        "outputId": "039ea0d3-bbdc-437a-87d7-bcb004cbad08"
      },
      "outputs": [
        {
          "output_type": "stream",
          "name": "stdout",
          "text": [
            "hello world\n"
          ]
        }
      ],
      "source": [
        "print(\"hello world\")"
      ]
    },
    {
      "cell_type": "markdown",
      "source": [
        "hello world에서도 괄호 없이도 글의 양쪽 에 \" \"를 입력해주냐? 아니냐?에 따라서 보여주는지 아닌지?가 중요해집니다"
      ],
      "metadata": {
        "id": "VY8gBQdv8tOB"
      }
    },
    {
      "cell_type": "code",
      "source": [
        "\"hello world\""
      ],
      "metadata": {
        "colab": {
          "base_uri": "https://localhost:8080/",
          "height": 35
        },
        "id": "WnuQOLIq8Pd-",
        "outputId": "fe30c459-7a1c-47fa-c61b-8938f9f791fa"
      },
      "execution_count": null,
      "outputs": [
        {
          "output_type": "execute_result",
          "data": {
            "text/plain": [
              "'hello world'"
            ],
            "application/vnd.google.colaboratory.intrinsic+json": {
              "type": "string"
            }
          },
          "metadata": {},
          "execution_count": 7
        }
      ]
    },
    {
      "cell_type": "code",
      "source": [
        "print(1 / 3 * 3.14 * 20 ** 2 * 30 )\n",
        "print(3.14 * 20 ** 2 + 3.14 * 20 * 30)"
      ],
      "metadata": {
        "colab": {
          "base_uri": "https://localhost:8080/"
        },
        "id": "pqz59ork878W",
        "outputId": "96ef461a-f5fd-4a99-d91c-acead2fe59c8"
      },
      "execution_count": null,
      "outputs": [
        {
          "output_type": "stream",
          "name": "stdout",
          "text": [
            "12559.999999999998\n",
            "3140.0\n"
          ]
        }
      ]
    },
    {
      "cell_type": "markdown",
      "source": [
        "print(1 / 3 * 3.14 * 20 ** 2 * 30 ) --> 나누기는 / , 곱하기는 * , 거듭제곱는 **입니다. "
      ],
      "metadata": {
        "id": "bOXxyj8W9C2K"
      }
    },
    {
      "cell_type": "code",
      "source": [
        "n = 5  # 삼각형의 높이 설정\n",
        "\n",
        "for i in range(1, n + 1):\n",
        "    print('*' * i)"
      ],
      "metadata": {
        "colab": {
          "base_uri": "https://localhost:8080/"
        },
        "id": "Eh8TdPdGCLKH",
        "outputId": "874d43a0-1f3c-4cb8-f4c1-d1df7be31d85"
      },
      "execution_count": null,
      "outputs": [
        {
          "output_type": "stream",
          "name": "stdout",
          "text": [
            "*\n",
            "**\n",
            "***\n",
            "****\n",
            "*****\n"
          ]
        }
      ]
    },
    {
      "cell_type": "code",
      "source": [
        "#반지름, 높이 값 할당\n",
        "rad = 20\n",
        "hei = 30\n",
        "#부피 출력\n",
        "print(1 / 3 * 3.14 * rad ** 2 * hei )\n",
        "#겉넓이 출력\n",
        "print(3.14 * rad ** 2 + 3.14 * rad * hei)"
      ],
      "metadata": {
        "colab": {
          "base_uri": "https://localhost:8080/"
        },
        "id": "MPbDZshxCSmn",
        "outputId": "29b55ac0-bd00-48e8-de7a-1dc015cd1430"
      },
      "execution_count": null,
      "outputs": [
        {
          "output_type": "stream",
          "name": "stdout",
          "text": [
            "12559.999999999998\n",
            "3140.0\n"
          ]
        }
      ]
    },
    {
      "cell_type": "markdown",
      "source": [
        "기말고사 대비 문제\n",
        "반지름 , 높이 그리고 여기서 나누기 , 제곱 , 거듭제곱의 기능을 잘못 표현하게 될 경우를 생각할것"
      ],
      "metadata": {
        "id": "SQOn8wgUCjNS"
      }
    },
    {
      "cell_type": "code",
      "source": [
        "#반지름, 높이 값 할당\n",
        "rad = 10\n",
        "hei = 20\n",
        "#부피 출력\n",
        "print(1 / 2 * 3.14 * rad ** 1 * hei )\n",
        "#겉넓이 출력\n",
        "print(3.14 * rad ** 1 + 3.14 * rad * hei)"
      ],
      "metadata": {
        "colab": {
          "base_uri": "https://localhost:8080/"
        },
        "id": "LkBWaZq6CiNF",
        "outputId": "987e1d68-3305-4059-91c2-7186830db50f"
      },
      "execution_count": null,
      "outputs": [
        {
          "output_type": "stream",
          "name": "stdout",
          "text": [
            "314.0\n",
            "659.4\n"
          ]
        }
      ]
    },
    {
      "cell_type": "markdown",
      "source": [
        "기말고사 대비 문제 반지름 , 높이 그리고 여기서 나누기 , 제곱 , 거듭제곱의 기능을 잘못 표현하게 될 경우를 생각할것\n",
        "int는 정수의 코드이고 input 변수를 쓰고 그 사이에 괄호를 넣어서 무엇을 써야할찌를 넣어줘야 합니다"
      ],
      "metadata": {
        "id": "OY50oiBmEfI-"
      }
    },
    {
      "cell_type": "code",
      "source": [
        "#반지름 사용자 입력\n",
        "rad = int(input(\"반지름을 입력하세요:\"))\n",
        "#높이 사용자 입력\n",
        "hei = int(input(\"높이를 입력하세요:\"))\n",
        "#부피&겉넓이 계산\n",
        "vol = 1/3 * 3.14 * rad ** 2 * hei\n",
        "suf = 3.14 * rad ** 2 + 3.14 * rad * hei\n",
        "print(\"원뿔의 부피는\" ,vol, \"입니다.\")\n",
        "print(\"원뿔의 겉넓이는\" ,suf, \"입니다\")"
      ],
      "metadata": {
        "colab": {
          "base_uri": "https://localhost:8080/"
        },
        "id": "o3o7IFZ6EYiU",
        "outputId": "58c4083b-5fd1-426d-ca2c-53e7f115584e"
      },
      "execution_count": null,
      "outputs": [
        {
          "output_type": "stream",
          "name": "stdout",
          "text": [
            "반지름을 입력하세요:10\n",
            "높이를 입력하세요:20\n",
            "원뿔의 부피는 2093.333333333333 입니다.\n",
            "원뿔의 겉넓이는 942.0 입니다\n"
          ]
        }
      ]
    },
    {
      "cell_type": "code",
      "source": [
        "numbers = [10, 5, 8, 20, 3]  # 숫자 리스트\n",
        "\n",
        "max_number = max(numbers)\n",
        "print(\"가장 큰 수:\", max_number)"
      ],
      "metadata": {
        "colab": {
          "base_uri": "https://localhost:8080/"
        },
        "id": "TqGmgNmOFPtY",
        "outputId": "a9a91f23-053b-4f4d-d9c7-94676f581ebd"
      },
      "execution_count": null,
      "outputs": [
        {
          "output_type": "stream",
          "name": "stdout",
          "text": [
            "가장 큰 수: 20\n"
          ]
        }
      ]
    },
    {
      "cell_type": "code",
      "source": [
        "for i in range(5):\n",
        "    print(i)"
      ],
      "metadata": {
        "colab": {
          "base_uri": "https://localhost:8080/"
        },
        "id": "aD3kqH4lHBhd",
        "outputId": "7ac6164e-8935-4e09-c209-fbb8910ffd7f"
      },
      "execution_count": null,
      "outputs": [
        {
          "output_type": "stream",
          "name": "stdout",
          "text": [
            "0\n",
            "1\n",
            "2\n",
            "3\n",
            "4\n"
          ]
        }
      ]
    },
    {
      "cell_type": "code",
      "source": [
        "fruits = [\"사과\", \"바나나\", \"딸기\"]\n",
        "\n",
        "for fruit in fruits:\n",
        "    print(fruit)"
      ],
      "metadata": {
        "colab": {
          "base_uri": "https://localhost:8080/"
        },
        "id": "URYqY1-AHi99",
        "outputId": "b6fe1de4-d6ae-4660-8af8-449f9ef9d21a"
      },
      "execution_count": null,
      "outputs": [
        {
          "output_type": "stream",
          "name": "stdout",
          "text": [
            "사과\n",
            "바나나\n",
            "딸기\n"
          ]
        }
      ]
    },
    {
      "cell_type": "markdown",
      "source": [
        "루프 loop 에 대한 코드입니다\n",
        "파이썬의 반복구조 루프는 특정 영역의 숫자를 여러번 실행하게 해주는 구조입니다"
      ],
      "metadata": {
        "id": "vmB8ZdQAHF81"
      }
    },
    {
      "cell_type": "code",
      "source": [
        "count = 0\n",
        "while count < 5:\n",
        "    print(\"Hello\")\n",
        "    count += 1"
      ],
      "metadata": {
        "colab": {
          "base_uri": "https://localhost:8080/"
        },
        "id": "67JOYowqHoTO",
        "outputId": "d0f4344f-11c6-4d74-90d5-10850f62ad2d"
      },
      "execution_count": null,
      "outputs": [
        {
          "output_type": "stream",
          "name": "stdout",
          "text": [
            "Hello\n",
            "Hello\n",
            "Hello\n",
            "Hello\n",
            "Hello\n"
          ]
        }
      ]
    },
    {
      "cell_type": "code",
      "source": [
        "num = int(input(\"출력할 구구단의 숫자를 입력하세요: \"))\n",
        "\n",
        "for i in range(1, 10):\n",
        "    result = num * i\n",
        "    print(f\"{num} x {i} = {result}\")"
      ],
      "metadata": {
        "colab": {
          "base_uri": "https://localhost:8080/"
        },
        "id": "00LslcmMLmZb",
        "outputId": "a6e6684c-5dd0-49b3-c7f3-09bc1c697a7c"
      },
      "execution_count": null,
      "outputs": [
        {
          "output_type": "stream",
          "name": "stdout",
          "text": [
            "출력할 구구단의 숫자를 입력하세요: 2\n",
            "2 x 1 = 2\n",
            "2 x 2 = 4\n",
            "2 x 3 = 6\n",
            "2 x 4 = 8\n",
            "2 x 5 = 10\n",
            "2 x 6 = 12\n",
            "2 x 7 = 14\n",
            "2 x 8 = 16\n",
            "2 x 9 = 18\n"
          ]
        }
      ]
    },
    {
      "cell_type": "code",
      "source": [
        "if rad > 0 and hei > 0 :\n",
        "    # r, h 모두 양수일 때\n",
        "    vol = 1/3 * 3.14 * rad ** 2 * hei\n",
        "    print(\"원뿔의 부피는\", vol, \"입니다.\")\n",
        "else :\n",
        "  # r, h가 음수일 때\n",
        "  print(\"반지름과 높이 값에 양수를 입력하세요\")"
      ],
      "metadata": {
        "colab": {
          "base_uri": "https://localhost:8080/"
        },
        "id": "5XwKVIwIMbHN",
        "outputId": "f4fd678a-1403-425d-8603-a98d792f036d"
      },
      "execution_count": null,
      "outputs": [
        {
          "output_type": "stream",
          "name": "stdout",
          "text": [
            "원뿔의 부피는 2093.333333333333 입니다.\n"
          ]
        }
      ]
    },
    {
      "cell_type": "code",
      "source": [
        "import math\n",
        "\n",
        "def calculate_cone_volume(radius, height):\n",
        "    if radius > 0 and height > 0:\n",
        "        volume = (1/3) * math.pi * radius**2 * height\n",
        "        return volume\n",
        "    else:\n",
        "        return None\n",
        "\n",
        "# 반지름과 높이 값을 사용자로부터 입력받기\n",
        "radius = float(input(\"반지름을 입력하세요: \"))\n",
        "height = float(input(\"높이를 입력하세요: \"))\n",
        "\n",
        "# 원뿔의 부피 계산 함수 호출\n",
        "cone_volume = calculate_cone_volume(radius, height)\n",
        "\n",
        "if cone_volume is not None:\n",
        "    print(\"원뿔의 부피는\", cone_volume, \"입니다.\")\n",
        "else:\n",
        "    print(\"반지름과 높이 값에 양수를 입력하세요.\")"
      ],
      "metadata": {
        "colab": {
          "base_uri": "https://localhost:8080/"
        },
        "id": "qnq7KsvIM1uK",
        "outputId": "29fef172-4762-4f45-fe46-ac31adebc372"
      },
      "execution_count": null,
      "outputs": [
        {
          "output_type": "stream",
          "name": "stdout",
          "text": [
            "반지름을 입력하세요: 10\n",
            "높이를 입력하세요: 20\n",
            "원뿔의 부피는 2094.3951023931954 입니다.\n"
          ]
        }
      ]
    },
    {
      "cell_type": "code",
      "source": [
        "my_list = [10, 20, 30, 40, 50]\n",
        "print(my_list[-1])  # 마지막 요소에 접근하여 값 출력\n",
        "print(my_list[-3])  # 세 번째 요소(뒤에서 세 번째)에 접근하여 값 출력"
      ],
      "metadata": {
        "colab": {
          "base_uri": "https://localhost:8080/"
        },
        "id": "XknulrgmO5lR",
        "outputId": "896e2252-d759-487e-d9f0-32dc6fc2480a"
      },
      "execution_count": null,
      "outputs": [
        {
          "output_type": "stream",
          "name": "stdout",
          "text": [
            "50\n",
            "30\n"
          ]
        }
      ]
    },
    {
      "cell_type": "code",
      "source": [
        "numbers = range(5)\n",
        "print(list(numbers))  # [0, 1, 2, 3, 4] 출력"
      ],
      "metadata": {
        "colab": {
          "base_uri": "https://localhost:8080/"
        },
        "id": "_Si76ArmQGWF",
        "outputId": "1bba98c7-87b6-4b4a-dbd3-fe1fbea3efb1"
      },
      "execution_count": null,
      "outputs": [
        {
          "output_type": "stream",
          "name": "stdout",
          "text": [
            "[0, 1, 2, 3, 4]\n"
          ]
        }
      ]
    },
    {
      "cell_type": "code",
      "source": [
        "value1 = 10\n",
        "value2 = \"hello\"\n",
        "\n",
        "formatted_string = \"포맷된 문자열\".format(value1, value2)"
      ],
      "metadata": {
        "id": "b0FeffENRZzR"
      },
      "execution_count": null,
      "outputs": []
    },
    {
      "cell_type": "code",
      "source": [
        "# 첫번째 식: 반지름이 20이고 높이가 30인 원기둥의 부피를 계산\n",
        "volume_cylinder = 1 / 3 * 3.14 * 20 ** 2 * 30\n",
        "\n",
        "# 두번째 식: 반지름이 20인 원의 면적과 반지름이 20이고 높이가 30인 원기둥의 측면 넓이의 합을 계산\n",
        "area_sum = 3.14 * 20 ** 2 + 2 * 3.14 * 20 * 30\n",
        "\n",
        "print(volume_cylinder)  # 결과를 출력\n",
        "print(area_sum)         # 결과를 출력"
      ],
      "metadata": {
        "colab": {
          "base_uri": "https://localhost:8080/"
        },
        "id": "CXQK95bjYiE4",
        "outputId": "01a4fb73-30f3-435d-ffa3-bf6fdf59c8d3"
      },
      "execution_count": 1,
      "outputs": [
        {
          "output_type": "stream",
          "name": "stdout",
          "text": [
            "12559.999999999998\n",
            "5024.0\n"
          ]
        }
      ]
    }
  ]
}